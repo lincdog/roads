{
 "cells": [
  {
   "cell_type": "code",
   "execution_count": 2,
   "id": "c6763197",
   "metadata": {},
   "outputs": [],
   "source": [
    "import geopandas as gpd\n",
    "import numpy as np\n",
    "from pathlib import Path\n",
    "import os\n",
    "import requests\n",
    "import pandas as pd"
   ]
  },
  {
   "cell_type": "code",
   "execution_count": 4,
   "id": "87c6adbb",
   "metadata": {},
   "outputs": [
    {
     "name": "stdout",
     "output_type": "stream",
     "text": [
      "\u001b[31mtl_2019_us_primaryroads.cpg\u001b[m\u001b[m*            \u001b[31mtl_2019_us_primaryroads.shp.ea.iso.xml\u001b[m\u001b[m*\n",
      "\u001b[31mtl_2019_us_primaryroads.dbf\u001b[m\u001b[m*            tl_2019_us_primaryroads.shp.iso.gfs\n",
      "\u001b[31mtl_2019_us_primaryroads.prj\u001b[m\u001b[m*            \u001b[31mtl_2019_us_primaryroads.shp.iso.xml\u001b[m\u001b[m*\n",
      "\u001b[31mtl_2019_us_primaryroads.shp\u001b[m\u001b[m*            \u001b[31mtl_2019_us_primaryroads.shx\u001b[m\u001b[m*\n"
     ]
    }
   ],
   "source": [
    "ls tl_2019_us_primaryroads"
   ]
  },
  {
   "cell_type": "code",
   "execution_count": 5,
   "id": "7c16e617",
   "metadata": {},
   "outputs": [],
   "source": [
    "gdf = gpd.read_file('tl_2019_us_primaryroads/tl_2019_us_primaryroads.shp')"
   ]
  },
  {
   "cell_type": "markdown",
   "id": "08d5fecf",
   "metadata": {},
   "source": [
    "# Download US Census Bureau TIGER Data"
   ]
  },
  {
   "cell_type": "code",
   "execution_count": 10,
   "id": "955fb303",
   "metadata": {},
   "outputs": [
    {
     "data": {
      "text/plain": [
       "'02'"
      ]
     },
     "execution_count": 10,
     "metadata": {},
     "output_type": "execute_result"
    }
   ],
   "source": [
    "f'{2:02d}'"
   ]
  },
  {
   "cell_type": "code",
   "execution_count": 38,
   "id": "74ed30c3",
   "metadata": {},
   "outputs": [
    {
     "data": {
      "text/plain": [
       "(51, 51)"
      ]
     },
     "execution_count": 38,
     "metadata": {},
     "output_type": "execute_result"
    }
   ],
   "source": [
    "len(STATES), len(NUMS)"
   ]
  },
  {
   "cell_type": "code",
   "execution_count": 42,
   "id": "c14f0c20",
   "metadata": {},
   "outputs": [
    {
     "data": {
      "text/plain": [
       "'24_MARYLAND'"
      ]
     },
     "execution_count": 42,
     "metadata": {},
     "output_type": "execute_result"
    }
   ],
   "source": [
    "FOLDERNAMES[20]"
   ]
  },
  {
   "cell_type": "code",
   "execution_count": 6,
   "id": "37a32930",
   "metadata": {},
   "outputs": [],
   "source": [
    "STATES = ('alabama', 'alaska', 'arizona', 'arkansas', 'california', 'colorado', 'connecticut',\n",
    "         'delaware', 'district of columbia', 'florida', 'georgia', 'hawaii', 'idaho', 'illinois',\n",
    "         'indiana', 'iowa', 'kansas', 'kentucky', 'louisiana', 'maine', 'maryland', 'massachusetts', 'michigan',\n",
    "         'minnesota', 'mississippi', 'missouri', 'montana', 'nebraska', 'nevada', 'new hampshire', \n",
    "         'new jersey', 'new mexico', 'new york', 'north carolina', 'north dakota', 'ohio', 'oklahoma',\n",
    "         'oregon', 'pennsylvania', 'rhode island', 'south carolina', 'south dakota', 'tennessee', \n",
    "         'texas', 'utah', 'vermont', 'virginia', 'washington', 'west virginia', 'wisconsin', 'wyoming')\n",
    "\n",
    "NUMS = (1, 2, 4, 5, 6, 8, 9, 10, 11, 12, 13, 15, 16, 17, 18, 19, 20, 21, 22, 23, 24, 25, 26,\n",
    "       27, 28, 29, 30, 31, 32, 33, 34, 35, 36, 37, 38, 39, 40, 41, 42, 44, 45, 46, 47, 48, \n",
    "       49, 50, 51, 53, 54, 55, 56)"
   ]
  },
  {
   "cell_type": "code",
   "execution_count": 7,
   "id": "4f350232",
   "metadata": {},
   "outputs": [],
   "source": [
    "base_url = \"https://www2.census.gov/geo/tiger/TIGER_RD18/STATE\"\n"
   ]
  },
  {
   "cell_type": "code",
   "execution_count": 8,
   "id": "8a578ed6-a70d-47db-9eb5-d6804220e906",
   "metadata": {},
   "outputs": [],
   "source": [
    "def gen_state_folder(state, num):\n",
    "    return '_'.join([f'{num:02d}', state.upper().replace(' ', '_')]) "
   ]
  },
  {
   "cell_type": "code",
   "execution_count": null,
   "id": "3b312d94",
   "metadata": {},
   "outputs": [
    {
     "name": "stdout",
     "output_type": "stream",
     "text": [
      "Failed to fetch https://www2.census.gov/geo/tiger/TIGER_RD18/STATE/01_ALABAMA/01135/tl_rd22_01135_roads.zip, moving to next state\n",
      "Failed to fetch https://www2.census.gov/geo/tiger/TIGER_RD18/STATE/02_ALASKA/02001/tl_rd22_02001_roads.zip, moving to next state\n",
      "Failed to fetch https://www2.census.gov/geo/tiger/TIGER_RD18/STATE/04_ARIZONA/04029/tl_rd22_04029_roads.zip, moving to next state\n",
      "Failed to fetch https://www2.census.gov/geo/tiger/TIGER_RD18/STATE/05_ARKANSAS/05151/tl_rd22_05151_roads.zip, moving to next state\n",
      "Failed to fetch https://www2.census.gov/geo/tiger/TIGER_RD18/STATE/06_CALIFORNIA/06117/tl_rd22_06117_roads.zip, moving to next state\n",
      "Failed to fetch https://www2.census.gov/geo/tiger/TIGER_RD18/STATE/08_COLORADO/08127/tl_rd22_08127_roads.zip, moving to next state\n",
      "Failed to fetch https://www2.census.gov/geo/tiger/TIGER_RD18/STATE/09_CONNECTICUT/09017/tl_rd22_09017_roads.zip, moving to next state\n",
      "Failed to fetch https://www2.census.gov/geo/tiger/TIGER_RD18/STATE/10_DELAWARE/10007/tl_rd22_10007_roads.zip, moving to next state\n",
      "Failed to fetch https://www2.census.gov/geo/tiger/TIGER_RD18/STATE/11_DISTRICT_OF_COLUMBIA/11003/tl_rd22_11003_roads.zip, moving to next state\n",
      "Failed to fetch https://www2.census.gov/geo/tiger/TIGER_RD18/STATE/12_FLORIDA/12025/tl_rd22_12025_roads.zip, moving to next state\n",
      "Failed to fetch https://www2.census.gov/geo/tiger/TIGER_RD18/STATE/13_GEORGIA/13041/tl_rd22_13041_roads.zip, moving to next state\n",
      "Failed to fetch https://www2.census.gov/geo/tiger/TIGER_RD18/STATE/15_HAWAII/15011/tl_rd22_15011_roads.zip, moving to next state\n",
      "Failed to fetch https://www2.census.gov/geo/tiger/TIGER_RD18/STATE/16_IDAHO/16089/tl_rd22_16089_roads.zip, moving to next state\n",
      "Failed to fetch https://www2.census.gov/geo/tiger/TIGER_RD18/STATE/17_ILLINOIS/17205/tl_rd22_17205_roads.zip, moving to next state\n"
     ]
    }
   ],
   "source": [
    "states = []\n",
    "nums = []\n",
    "state_folders = []\n",
    "idnums = []\n",
    "fullpaths = []\n",
    "\n",
    "for state, num in zip(STATES, NUMS):\n",
    "    state_folder = gen_state_folder(state, num)\n",
    "    state_url = '/'.join([base_url, state_folder])\n",
    "    \n",
    "    index = 1\n",
    "    \n",
    "    while True:\n",
    "        idnum = f'{num:02d}{index:03d}'\n",
    "\n",
    "        #print(f'{state_folder=} {idnum=}')\n",
    "\n",
    "        zipname = f'tl_rd22_{idnum}_roads.zip'\n",
    "        full_path = '/'.join([state_folder, idnum, zipname])\n",
    "\n",
    "        full_url = '/'.join([state_url, idnum, zipname])\n",
    "\n",
    "        #print(f'{full_url=}')\n",
    "        \n",
    "        r = requests.get(full_url)\n",
    "        \n",
    "        if r.ok:\n",
    "            savepath = Path(state_folder, zipname)\n",
    "            savepath.parent.mkdir(exist_ok=True)\n",
    "            with open(savepath, 'wb') as f:\n",
    "                f.write(r.content)\n",
    "                \n",
    "            states.append(state)\n",
    "            nums.append(num)\n",
    "            state_folders.append(state_folder)\n",
    "            idnums.append(idnum)\n",
    "            fullpaths.append(full_path)\n",
    "        else:\n",
    "            print(f'Failed to fetch {full_url}, moving to next state')\n",
    "            break\n",
    "        \n",
    "        index += 2"
   ]
  },
  {
   "cell_type": "code",
   "execution_count": 12,
   "id": "333a9b26-1f74-4f37-8cfe-bc8d0db26ddb",
   "metadata": {},
   "outputs": [],
   "source": [
    "df = pd.DataFrame({'state': states, \n",
    "                   'statenum': nums, \n",
    "                   'statefolder': state_folders,\n",
    "                   'idnum': idnums,\n",
    "                   'fullpath': fullpaths\n",
    "                  })"
   ]
  },
  {
   "cell_type": "code",
   "execution_count": 14,
   "id": "ffbe6dc9-5513-4beb-b604-a44d29d5dd2f",
   "metadata": {},
   "outputs": [],
   "source": [
    "df.to_csv('state-roads-data.csv', index=False)"
   ]
  },
  {
   "cell_type": "code",
   "execution_count": 45,
   "id": "23f1e8dc",
   "metadata": {},
   "outputs": [],
   "source": [
    "r = requests.get('https://www2.census.gov/geo/tiger/TIGER_RD18/STATE/24_MARYLAND/')"
   ]
  },
  {
   "cell_type": "code",
   "execution_count": 46,
   "id": "09a787ab",
   "metadata": {},
   "outputs": [
    {
     "data": {
      "text/plain": [
       "b'<!DOCTYPE HTML PUBLIC \"-//W3C//DTD HTML 3.2 Final//EN\">\\n<html>\\n <head>\\n  <title>Index of /geo/tiger/TIGER_RD18/STATE/24_MARYLAND</title>\\n </head>\\n <body>\\n<!-- GOV BANNER AND SIMPLE HEADER LAST UPDATED 11/17/2021 -->\\n<!DOCTYPE html>\\n<html>\\n  <head>\\n    <meta charset=\"utf-8\" />\\n    <script src=\"https://www.census.gov/main/uswds/uswds-2.12.0/js/uswds-init.min.js\"></script>\\n   <!-- <link rel=\"stylesheet\" href=\"https://www.census.gov/main/uswds/uswds-2.12.0/css/uswds.min.css\" /> -->\\n  <!--  <link rel=\"stylesheet\" href=\"https://www.census.gov/main/.in/css/all_header_styles.css\" /> -->\\n  <link rel=\"stylesheet\" href=\"/main/css/all_header_styles.css\" />\\n   \\n   \\n  </head>\\n  <body>\\n    <script src=\"https://www.census.gov/main/uswds/uswds-2.12.0/js/uswds.min.js\"></script>\\n    <section class=\"usa-banner\" aria-label=\"Official government website\">\\n        <div class=\"usa-accordion\">\\n          <header class=\"usa-banner__header\">\\n            <div class=\"usa-banner__inner\">\\n              <div class=\"grid-col-auto\">\\n                <img\\n                  class=\"usa-banner__header-flag\"\\n                  src=\"https://www.census.gov/main/uswds/uswds-2.12.0/img/us_flag_small.png\"\\n                  alt=\"U.S. flag\"\\n                />\\n              </div>\\n              <div class=\"grid-col-fill tablet:grid-col-auto\">\\n                <p class=\"usa-banner__header-text\">\\n                  An official website of the United States government\\n                </p>\\n                <!-- <p class=\"usa-banner__header-action\" aria-hidden=\"true\">\\n                  Here\\'s how you know\\n                </p>\\n              </div>\\n              <button\\n                class=\"usa-accordion__button usa-banner__button\"\\n                aria-expanded=\"false\"\\n                aria-controls=\"gov-banner-default\"\\n              >\\n                <span class=\"usa-banner__button-text\">Here\\'s how you know</span>\\n              </button>\\n            </div>\\n          </header>\\n          <div class=\"usa-banner__content usa-accordion__content\" id=\"gov-banner-default\">\\n            <div class=\"grid-row grid-gap-lg\">\\n              <div class=\"usa-banner__guidance tablet:grid-col-6\">\\n                <img\\n                  class=\"usa-banner__icon usa-media-block__img\"\\n                  src=\"https://www.census.gov/main/uswds/uswds-2.12.0/img/icon-dot-gov.svg\"\\n                  role=\"img\"\\n                  alt=\"\"\\n                  aria-hidden=\"true\"\\n                />\\n                <div class=\"usa-media-block__body\">\\n                  <p>\\n                    <strong> Official websites use .gov </strong>\\n                    <br />\\n                    A <strong>.gov</strong> website belongs to an official government\\n                    organization in the United States.\\n                  </p>\\n                </div>\\n              </div>\\n              <div class=\"usa-banner__guidance tablet:grid-col-6\">\\n                <img\\n                  class=\"usa-banner__icon usa-media-block__img\"\\n                  src=\"https://www.census.gov/main/uswds/uswds-2.12.0/img/icon-https.svg\"\\n                  role=\"img\"\\n                  alt=\"\"\\n                  aria-hidden=\"true\"\\n                />\\n                <div class=\"usa-media-block__body\">\\n                  <p>\\n                    <strong> Secure .gov websites use HTTPS </strong>\\n                    <br />\\n                    A <strong>lock</strong> (\\n                    <span class=\"icon-lock\"\\n                      ><svg\\n                        xmlns=\"http://www.w3.org/2000/svg\"\\n                        width=\"52\"\\n                        height=\"64\"\\n                        viewBox=\"0 0 52 64\"\\n                        class=\"usa-banner__lock-image\"\\n                        role=\"img\"\\n                        aria-labelledby=\"banner-lock-title-default banner-lock-description-default\"\\n                        focusable=\"false\"\\n                      >\\n                        <title id=\"banner-lock-title-default\">Lock</title>\\n                        <desc id=\"banner-lock-description-default\">A locked padlock</desc>\\n                        <path\\n                          fill=\"#000000\"\\n                          fill-rule=\"evenodd\"\\n                          d=\"M26 0c10.493 0 19 8.507 19 19v9h3a4 4 0 0 1 4 4v28a4 4 0 0 1-4 4H4a4 4 0 0 1-4-4V32a4 4 0 0 1 4-4h3v-9C7 8.507 15.507 0 26 0zm0 8c-5.979 0-10.843 4.77-10.996 10.712L15 19v9h22v-9c0-6.075-4.925-11-11-11z\"/>\\n                        </svg></span>\\n                    ) or <strong>https://</strong> means you\\xe2\\x80\\x99ve safely connected to\\n                    the .gov website. Share sensitive information only on official,\\n                    secure websites.\\n                  </p> -->\\n                </div>\\n              </div>\\n            </div>\\n         <!-- </div>\\n        </div>-->\\n      </section>\\n\\n\\n<!-- Adding original census.gov css -->\\n<!-- \\n<link rel=\"stylesheet\" href=\"https://www.census.gov/main/css/_new/bootstrap.css\" class=\"cb-main-support global-file\">\\n<link rel=\"stylesheet\" href=\"https://www.census.gov/main/css/_new/base.css\" class=\"cb-main-support global-file\">\\n<link rel=\"stylesheet\" href=\"https://www.census.gov/main/css/_new/extra.css\" class=\"cb-main-support global-file\">\\n<link rel=\"stylesheet\" href=\"https://www.census.gov/main/css/_new/typeahead.css\" class=\"cb-main-support global-file\">\\n<link rel=\"stylesheet\" href=\"https://www.census.gov/main/css/_new/header.css\" class=\"cb-main-support global-file\">\\n<link rel=\"stylesheet\" href=\"https://www.census.gov/main/css/_new/search.css\" class=\"cb-main-support global-file\">\\n -->\\n\\n<style id=\"antiClickjack\">\\n    body {\\n        display: none !important\\n    }\\n</style>\\n<script type=\"text/javascript\" src=\"https://www.census.gov/main/javascript/clickjack.js\"></script>\\n<script src=\"https://www.census.gov/main/responsive-header/jquery/jquery.js\"\\n    class=\"cb-main-support global-file\"></script>\\n<script src=\"https://www.census.gov/main/responsive-header/jquery/jquery-ui.js\"\\n    class=\"cb-main-support global-file\"></script>\\n\\n<!-- Check for jquery conflict -->\\n<script type=\"text/javascript\">\\n\\n\\t$.ajax({\\n\\t\\ttype : \\'get\\',\\n\\t\\turl : \\'/main/app-config/header/adobe-launch.txt\\',\\t\\n\\t\\tdataType: \\'text\\',            \\t\\n\\t\\tsuccess : function(data){\\t\\t \\t\\t\\n\\t                var adobeLaunchScript = document.createElement(\"script\");\\n\\t                adobeLaunchScript.setAttribute(\"src\",data);\\n\\t                document.head.appendChild(adobeLaunchScript);\\n\\t            },\\n\\t    error : function(xhr, errorText, errorMessage){\\n\\t                console.log(\\'adobe-launch URL recognition failed: \\' + errorText);\\n\\t            }\\n\\t});\\n\\n    $acn = jQuery.noConflict();\\n    if (typeof jQuery === \\'undefined\\' || typeof $ === \\'undefined\\') {\\n        jQuery = $acn;\\n        $ = $acn;\\n    }\\n    $(function () {\\n        $(\\'.cb-header-skip-nav\\').click(function () {\\n            $(\\'#cb-after-header-anchor\\').focus();\\n        });\\n    });\\n</script>\\n\\n<script src=\"https://www.census.gov/main/responsive-header/bootstrap-custom/js/bootstrap.js\"\\n    class=\"cb-main-support global-file\"></script>\\n<script src=\"https://www.census.gov/main/responsive-header/js/typeahead.js\"\\n    class=\"cb-main-support global-file\"></script>\\n\\n\\n<style type=\"text/css\">\\n    header.hdr-primary,\\n    header.hdr-primary>nav {\\n        display: flex !important;\\n        align-items: center !important;\\n        margin: 0 !important;\\n        padding: 0 !important;\\n        height: 64px !important;\\n        background-color: #ffffff !important;\\n       /* border-color: #112e51 !important;*/\\n    }\\n\\n    header.hdr-primary>nav>div {\\n        box-sizing: border-box !important;\\n        height: 36.62px !important;\\n        font-size: 20px !important;\\n        font-weight: 500 !important;\\n        letter-spacing: 0.02em !important;\\n        line-height: 30px !important;\\n        white-space: nowrap !important;\\n        vertical-align: baseline !important;\\n        padding: 0 0 0 16px !important;\\n        margin: 0 !important;\\n        min-width: 150px !important;\\n    }\\n\\n    header.hdr-primary>nav>div>a,\\n    header.hdr-primary>nav>div>a>img {\\n        padding: 0 !important;\\n        margin: 0 !important;\\n        border-style: none !important;\\n        background: transparent !important;\\n        text-decoration: none !important;\\n    }\\n\\n    header.hdr-primary>nav>div>a {\\n        box-sizing: border-box !important;\\n        cursor: pointer !important;\\n        text-decoration: none !important;\\n    }\\n\\n    header.hdr-primary>nav>div>a>img {\\n        width: 86px !important;\\n        height: 33.62px !important;\\n        margin-left: 15px !important;\\n    }\\n    hr.blue-line {\\n   /* border-top-width: 2px;*/\\n   /* border-color: #d0dce1;*/\\n    margin: 0px;\\n    border-bottom: #d0dce1 1px solid;\\n    \\n    }\\n    \\n</style>\\n<button class=\"cb-header-skip-nav sr-only sr-only-focusable\">Skip to main content</button>\\n<header class=\"hdr-primary\">\\n    <nav>\\n        <!--  <div><a href=\"https://www.census.gov\" id=\"census-home-link\"><img src=\"https://data.census.gov/cedsci/img/census-logo-white.25c8cb29.svg\" alt=\"United States Census Bureau\" title=\"U.S. Census Bureau\"></a></div> \\n          <div><a href=\"https://www.census.gov\" id=\"census-home-link\"><img src=\"https://www.census.gov/main/.in/USCENSUS_IDENTITY_SOLO_White_2in_TM.svg\" alt=\"United States Census Bureau\" title=\"U.S. Census Bureau\"></a></div>\\n    -->\\n        <div><a href=\"https://www.census.gov\" id=\"census-home-link\"><img\\n                    src=\"/main/img/USCENSUS_IDENTITY_SOLO_BLACK_1.5in_R_no_padding.svg\"\\n                    alt=\"United States Census Bureau\" title=\"U.S. Census Bureau\"></a></div>\\n    </nav>\\n</header>\\n<hr class=\"blue-line\">\\n<a class=\"sr-only\" tabindex=\"-1\" id=\"cb-after-header-anchor\">end of header</a>\\n</body>\\n\\n</html>\\n  <table>\\n   <tr><th valign=\"top\"><img src=\"/icons/blank.gif\" alt=\"[ICO]\"></th><th><a href=\"?C=N;O=D\">Name</a></th><th><a href=\"?C=M;O=A\">Last modified</a></th><th><a href=\"?C=S;O=A\">Size</a></th><th><a href=\"?C=D;O=A\">Description</a></th></tr>\\n   <tr><th colspan=\"5\"><hr></th></tr>\\n<tr><td valign=\"top\"><img src=\"/icons/back.gif\" alt=\"[PARENTDIR]\"></td><td><a href=\"/geo/tiger/TIGER_RD18/STATE/\">Parent Directory</a></td><td>&nbsp;</td><td align=\"right\">  - </td><td>&nbsp;</td></tr>\\n<tr><td valign=\"top\"><img src=\"/icons/folder.gif\" alt=\"[DIR]\"></td><td><a href=\"24/\">24/</a></td><td align=\"right\">2023-01-06 15:48  </td><td align=\"right\">  - </td><td>&nbsp;</td></tr>\\n<tr><td valign=\"top\"><img src=\"/icons/folder.gif\" alt=\"[DIR]\"></td><td><a href=\"24001/\">24001/</a></td><td align=\"right\">2023-01-06 15:48  </td><td align=\"right\">  - </td><td>&nbsp;</td></tr>\\n<tr><td valign=\"top\"><img src=\"/icons/folder.gif\" alt=\"[DIR]\"></td><td><a href=\"24003/\">24003/</a></td><td align=\"right\">2023-01-06 15:48  </td><td align=\"right\">  - </td><td>&nbsp;</td></tr>\\n<tr><td valign=\"top\"><img src=\"/icons/folder.gif\" alt=\"[DIR]\"></td><td><a href=\"24005/\">24005/</a></td><td align=\"right\">2023-01-06 15:48  </td><td align=\"right\">  - </td><td>&nbsp;</td></tr>\\n<tr><td valign=\"top\"><img src=\"/icons/folder.gif\" alt=\"[DIR]\"></td><td><a href=\"24009/\">24009/</a></td><td align=\"right\">2023-01-06 15:49  </td><td align=\"right\">  - </td><td>&nbsp;</td></tr>\\n<tr><td valign=\"top\"><img src=\"/icons/folder.gif\" alt=\"[DIR]\"></td><td><a href=\"24011/\">24011/</a></td><td align=\"right\">2023-01-06 15:49  </td><td align=\"right\">  - </td><td>&nbsp;</td></tr>\\n<tr><td valign=\"top\"><img src=\"/icons/folder.gif\" alt=\"[DIR]\"></td><td><a href=\"24013/\">24013/</a></td><td align=\"right\">2023-01-06 15:49  </td><td align=\"right\">  - </td><td>&nbsp;</td></tr>\\n<tr><td valign=\"top\"><img src=\"/icons/folder.gif\" alt=\"[DIR]\"></td><td><a href=\"24015/\">24015/</a></td><td align=\"right\">2023-01-06 15:49  </td><td align=\"right\">  - </td><td>&nbsp;</td></tr>\\n<tr><td valign=\"top\"><img src=\"/icons/folder.gif\" alt=\"[DIR]\"></td><td><a href=\"24017/\">24017/</a></td><td align=\"right\">2023-01-06 15:49  </td><td align=\"right\">  - </td><td>&nbsp;</td></tr>\\n<tr><td valign=\"top\"><img src=\"/icons/folder.gif\" alt=\"[DIR]\"></td><td><a href=\"24019/\">24019/</a></td><td align=\"right\">2023-01-06 15:49  </td><td align=\"right\">  - </td><td>&nbsp;</td></tr>\\n<tr><td valign=\"top\"><img src=\"/icons/folder.gif\" alt=\"[DIR]\"></td><td><a href=\"24021/\">24021/</a></td><td align=\"right\">2023-01-06 15:49  </td><td align=\"right\">  - </td><td>&nbsp;</td></tr>\\n<tr><td valign=\"top\"><img src=\"/icons/folder.gif\" alt=\"[DIR]\"></td><td><a href=\"24023/\">24023/</a></td><td align=\"right\">2023-01-06 15:49  </td><td align=\"right\">  - </td><td>&nbsp;</td></tr>\\n<tr><td valign=\"top\"><img src=\"/icons/folder.gif\" alt=\"[DIR]\"></td><td><a href=\"24025/\">24025/</a></td><td align=\"right\">2023-01-06 15:49  </td><td align=\"right\">  - </td><td>&nbsp;</td></tr>\\n<tr><td valign=\"top\"><img src=\"/icons/folder.gif\" alt=\"[DIR]\"></td><td><a href=\"24027/\">24027/</a></td><td align=\"right\">2023-01-06 15:49  </td><td align=\"right\">  - </td><td>&nbsp;</td></tr>\\n<tr><td valign=\"top\"><img src=\"/icons/folder.gif\" alt=\"[DIR]\"></td><td><a href=\"24029/\">24029/</a></td><td align=\"right\">2023-01-06 15:49  </td><td align=\"right\">  - </td><td>&nbsp;</td></tr>\\n<tr><td valign=\"top\"><img src=\"/icons/folder.gif\" alt=\"[DIR]\"></td><td><a href=\"24031/\">24031/</a></td><td align=\"right\">2023-01-06 15:49  </td><td align=\"right\">  - </td><td>&nbsp;</td></tr>\\n<tr><td valign=\"top\"><img src=\"/icons/folder.gif\" alt=\"[DIR]\"></td><td><a href=\"24033/\">24033/</a></td><td align=\"right\">2023-01-06 15:49  </td><td align=\"right\">  - </td><td>&nbsp;</td></tr>\\n<tr><td valign=\"top\"><img src=\"/icons/folder.gif\" alt=\"[DIR]\"></td><td><a href=\"24035/\">24035/</a></td><td align=\"right\">2023-01-06 15:49  </td><td align=\"right\">  - </td><td>&nbsp;</td></tr>\\n<tr><td valign=\"top\"><img src=\"/icons/folder.gif\" alt=\"[DIR]\"></td><td><a href=\"24037/\">24037/</a></td><td align=\"right\">2023-01-06 15:49  </td><td align=\"right\">  - </td><td>&nbsp;</td></tr>\\n<tr><td valign=\"top\"><img src=\"/icons/folder.gif\" alt=\"[DIR]\"></td><td><a href=\"24039/\">24039/</a></td><td align=\"right\">2023-01-06 15:49  </td><td align=\"right\">  - </td><td>&nbsp;</td></tr>\\n<tr><td valign=\"top\"><img src=\"/icons/folder.gif\" alt=\"[DIR]\"></td><td><a href=\"24041/\">24041/</a></td><td align=\"right\">2023-01-06 15:49  </td><td align=\"right\">  - </td><td>&nbsp;</td></tr>\\n<tr><td valign=\"top\"><img src=\"/icons/folder.gif\" alt=\"[DIR]\"></td><td><a href=\"24043/\">24043/</a></td><td align=\"right\">2023-01-06 15:49  </td><td align=\"right\">  - </td><td>&nbsp;</td></tr>\\n<tr><td valign=\"top\"><img src=\"/icons/folder.gif\" alt=\"[DIR]\"></td><td><a href=\"24045/\">24045/</a></td><td align=\"right\">2023-01-06 15:49  </td><td align=\"right\">  - </td><td>&nbsp;</td></tr>\\n<tr><td valign=\"top\"><img src=\"/icons/folder.gif\" alt=\"[DIR]\"></td><td><a href=\"24047/\">24047/</a></td><td align=\"right\">2023-01-06 15:49  </td><td align=\"right\">  - </td><td>&nbsp;</td></tr>\\n<tr><td valign=\"top\"><img src=\"/icons/folder.gif\" alt=\"[DIR]\"></td><td><a href=\"24510/\">24510/</a></td><td align=\"right\">2023-01-06 15:49  </td><td align=\"right\">  - </td><td>&nbsp;</td></tr>\\n   <tr><th colspan=\"5\"><hr></th></tr>\\n</table>\\n<!-- START CB Footer - Last Revised: 10/04/2022 -->\\r\\n<!-- Responsive Version -->\\r\\n<!DOCTYPE html>\\r\\n<head>\\r\\n<meta content=\"width=device-width, initial-scale=1\" name=\"viewport\" />\\r\\n<link rel=\"stylesheet\" href=\"https://www.census.gov/main/css/font-awesome-4.7.0/css/font-awesome.min.css\">\\r\\n<!--  <link rel=\"stylesheet\" type=\"text/css\" href=\"/main/css/bootstrap-4.3.1.min.css\">-->\\r\\n<link rel=\"stylesheet\" type=\"text/css\" href=\"/main/css/new_footer.css\">\\r\\n\\r\\n\\r\\n<!-- <script src=\"/main/javascript/jquery-3.0.0/jquery.min.js\"></script>\\r\\n<script src=\"/main/javascript/bootstrap-4.3.1/bootstrap.min.js\"></script>-->\\r\\n\\r\\n<style>\\r\\n\\r\\n@media only screen and (max-width: 700px) {\\r\\n    .val {\\r\\n    width: 100%;\\r\\n    margin: auto 0;    \\r\\n}\\r\\n\\r\\na{\\r\\nfont-size: small;\\r\\n}\\r\\n\\r\\n.foot_bottom_links{\\r\\nwidth: 100%;\\r\\n\\r\\ntext-align:left;\\r\\n}\\r\\n\\r\\n}\\r\\n\\r\\nhr.foot-line {\\r\\nmargin-bottom: 10px;\\r\\n}\\r\\n\\r\\n\\r\\n\\r\\n</style>\\r\\n\\r\\n</head>\\r\\n        \\r\\n        <footer class=\"footer container-fluid\">\\r\\n   <div class=\"row\">\\r\\n  \\r\\n    <div class=\"grid_footer_links cf\">\\r\\n   \\r\\n\\r\\n        <div class=\"foot_bottom\">\\r\\n            <div class=\"foot_bottom_links\">\\r\\n            \\r\\n                <div class=\"footerbottom\">\\r\\n                \\r\\n                 \\r\\n                <div class=\"val\">\\r\\n\\t\\t\\t\\t\\t<a class=\"foot_bottom_socialLinks\" href=\"https://www.census.gov/about/contact-us/social_media.html\">CONNECT WITH US</a>\\r\\n                    <a class=\"social-icon\" href=\"https://www.facebook.com/uscensusbureau\"><i class=\"fa fa-facebook\"></i></a>\\r\\n                    <a class=\"social-icon\" href=\"https://twitter.com/uscensusbureau\"><i class=\"fa fa-twitter\"></i></a>\\r\\n                    <a class=\"social-icon\" href=\"https://www.linkedin.com/company/us-census-bureau\"><i class=\"fa fa-linkedin\"></i></a>\\r\\n                    <a class=\"social-icon\" href=\"https://www.youtube.com/user/uscensusbureau\"><i class=\"fa fa-youtube\"></i></a>\\r\\n                    <a class=\"social-icon\" href=\"https://www.instagram.com/uscensusbureau/\"><i class=\"fa fa-instagram\"></i></a>\\r\\n                    <!-- <i class=\"foot_bottom_socialLinks\" href=\"https://public.govdelivery.com/accounts/USCENSUS/subscriber/new\" target=\"_blank\"><img src=\"//www.census.gov/main/img/Mail_White.svg\" alt=\"Email Updates logo\" title=\"Email Updates\"/></i> -->\\r\\n</div>\\r\\n\\r\\n<div class=\"val\">\\r\\n                    <ul class=\"legal-menu\">\\r\\n                    <li><a href=\"https://www.census.gov/quality/\">Information Quality</a></li>\\r\\n                    <li><a href=\"https://www.census.gov/datalinkage/\">Data Linkage Infrastructure</a></li>\\r\\n                    <li><a href=\"https://www.census.gov/privacy/\">Data Protection and Privacy Policy</a></li>\\r\\n                    <li><a href=\"https://www.census.gov/about/policies/privacy/privacy-policy.html#accessibility\">Accessibility</a></li>      \\r\\n                    <li><a href=\"https://www.census.gov/foia/\">FOIA</a></li>\\r\\n                    <li><a href=\"https://www.oig.doc.gov/Pages/default.aspx\">Inspector General</a></li>\\r\\n                    <li><a href=\"https://www.commerce.gov/cr/reports-and-resources/no-fear-act\">No FEAR Act</a></li>\\r\\n                    <li><a href=\"https://www.commerce.gov/\">U.S. Department of Commerce</a></li>\\r\\n                    <li><a href=\"https://www.usa.gov/\">USA.gov</a></li>\\r\\n                        \\r\\n                    </ul>\\r\\n                   \\r\\n                   </div>\\r\\n                   <hr class=\"foot-line\">\\r\\n                   <p class=\"foot_bottom_tagline\">Measuring America\\'s People, Places, and Economy</p>\\r\\n                   </div> \\r\\n                </div> <!-- end class=footerbotom -->\\r\\n            </div> <!-- end class=foot_bottom_links -->\\r\\n        </div> <!-- end class=grid_footer_links -->\\r\\n    </div>\\r\\n</footer> <!-- end class=footer -->\\r\\n\\r\\n</html>\\r\\n</body></html>\\n'"
      ]
     },
     "execution_count": 46,
     "metadata": {},
     "output_type": "execute_result"
    }
   ],
   "source": [
    "r.content"
   ]
  },
  {
   "cell_type": "markdown",
   "id": "1a70d694",
   "metadata": {},
   "source": [
    "# Load manifest"
   ]
  },
  {
   "cell_type": "code",
   "execution_count": 3,
   "id": "2539aee2",
   "metadata": {},
   "outputs": [],
   "source": [
    "manifest = pd.read_csv('state-roads-data.csv')"
   ]
  },
  {
   "cell_type": "code",
   "execution_count": 4,
   "id": "1651b088",
   "metadata": {},
   "outputs": [
    {
     "data": {
      "text/html": [
       "<div>\n",
       "<style scoped>\n",
       "    .dataframe tbody tr th:only-of-type {\n",
       "        vertical-align: middle;\n",
       "    }\n",
       "\n",
       "    .dataframe tbody tr th {\n",
       "        vertical-align: top;\n",
       "    }\n",
       "\n",
       "    .dataframe thead th {\n",
       "        text-align: right;\n",
       "    }\n",
       "</style>\n",
       "<table border=\"1\" class=\"dataframe\">\n",
       "  <thead>\n",
       "    <tr style=\"text-align: right;\">\n",
       "      <th></th>\n",
       "      <th>state</th>\n",
       "      <th>statenum</th>\n",
       "      <th>statefolder</th>\n",
       "      <th>idnum</th>\n",
       "      <th>fullpath</th>\n",
       "    </tr>\n",
       "  </thead>\n",
       "  <tbody>\n",
       "    <tr>\n",
       "      <th>0</th>\n",
       "      <td>alabama</td>\n",
       "      <td>1</td>\n",
       "      <td>01_ALABAMA</td>\n",
       "      <td>1001</td>\n",
       "      <td>01_ALABAMA/01001/tl_rd22_01001_roads.zip</td>\n",
       "    </tr>\n",
       "    <tr>\n",
       "      <th>1</th>\n",
       "      <td>alabama</td>\n",
       "      <td>1</td>\n",
       "      <td>01_ALABAMA</td>\n",
       "      <td>1003</td>\n",
       "      <td>01_ALABAMA/01003/tl_rd22_01003_roads.zip</td>\n",
       "    </tr>\n",
       "    <tr>\n",
       "      <th>2</th>\n",
       "      <td>alabama</td>\n",
       "      <td>1</td>\n",
       "      <td>01_ALABAMA</td>\n",
       "      <td>1005</td>\n",
       "      <td>01_ALABAMA/01005/tl_rd22_01005_roads.zip</td>\n",
       "    </tr>\n",
       "    <tr>\n",
       "      <th>3</th>\n",
       "      <td>alabama</td>\n",
       "      <td>1</td>\n",
       "      <td>01_ALABAMA</td>\n",
       "      <td>1007</td>\n",
       "      <td>01_ALABAMA/01007/tl_rd22_01007_roads.zip</td>\n",
       "    </tr>\n",
       "    <tr>\n",
       "      <th>4</th>\n",
       "      <td>alabama</td>\n",
       "      <td>1</td>\n",
       "      <td>01_ALABAMA</td>\n",
       "      <td>1009</td>\n",
       "      <td>01_ALABAMA/01009/tl_rd22_01009_roads.zip</td>\n",
       "    </tr>\n",
       "    <tr>\n",
       "      <th>...</th>\n",
       "      <td>...</td>\n",
       "      <td>...</td>\n",
       "      <td>...</td>\n",
       "      <td>...</td>\n",
       "      <td>...</td>\n",
       "    </tr>\n",
       "    <tr>\n",
       "      <th>2683</th>\n",
       "      <td>wyoming</td>\n",
       "      <td>56</td>\n",
       "      <td>56_WYOMING</td>\n",
       "      <td>56037</td>\n",
       "      <td>56_WYOMING/56037/tl_rd22_56037_roads.zip</td>\n",
       "    </tr>\n",
       "    <tr>\n",
       "      <th>2684</th>\n",
       "      <td>wyoming</td>\n",
       "      <td>56</td>\n",
       "      <td>56_WYOMING</td>\n",
       "      <td>56039</td>\n",
       "      <td>56_WYOMING/56039/tl_rd22_56039_roads.zip</td>\n",
       "    </tr>\n",
       "    <tr>\n",
       "      <th>2685</th>\n",
       "      <td>wyoming</td>\n",
       "      <td>56</td>\n",
       "      <td>56_WYOMING</td>\n",
       "      <td>56041</td>\n",
       "      <td>56_WYOMING/56041/tl_rd22_56041_roads.zip</td>\n",
       "    </tr>\n",
       "    <tr>\n",
       "      <th>2686</th>\n",
       "      <td>wyoming</td>\n",
       "      <td>56</td>\n",
       "      <td>56_WYOMING</td>\n",
       "      <td>56043</td>\n",
       "      <td>56_WYOMING/56043/tl_rd22_56043_roads.zip</td>\n",
       "    </tr>\n",
       "    <tr>\n",
       "      <th>2687</th>\n",
       "      <td>wyoming</td>\n",
       "      <td>56</td>\n",
       "      <td>56_WYOMING</td>\n",
       "      <td>56045</td>\n",
       "      <td>56_WYOMING/56045/tl_rd22_56045_roads.zip</td>\n",
       "    </tr>\n",
       "  </tbody>\n",
       "</table>\n",
       "<p>2688 rows × 5 columns</p>\n",
       "</div>"
      ],
      "text/plain": [
       "        state  statenum statefolder  idnum  \\\n",
       "0     alabama         1  01_ALABAMA   1001   \n",
       "1     alabama         1  01_ALABAMA   1003   \n",
       "2     alabama         1  01_ALABAMA   1005   \n",
       "3     alabama         1  01_ALABAMA   1007   \n",
       "4     alabama         1  01_ALABAMA   1009   \n",
       "...       ...       ...         ...    ...   \n",
       "2683  wyoming        56  56_WYOMING  56037   \n",
       "2684  wyoming        56  56_WYOMING  56039   \n",
       "2685  wyoming        56  56_WYOMING  56041   \n",
       "2686  wyoming        56  56_WYOMING  56043   \n",
       "2687  wyoming        56  56_WYOMING  56045   \n",
       "\n",
       "                                      fullpath  \n",
       "0     01_ALABAMA/01001/tl_rd22_01001_roads.zip  \n",
       "1     01_ALABAMA/01003/tl_rd22_01003_roads.zip  \n",
       "2     01_ALABAMA/01005/tl_rd22_01005_roads.zip  \n",
       "3     01_ALABAMA/01007/tl_rd22_01007_roads.zip  \n",
       "4     01_ALABAMA/01009/tl_rd22_01009_roads.zip  \n",
       "...                                        ...  \n",
       "2683  56_WYOMING/56037/tl_rd22_56037_roads.zip  \n",
       "2684  56_WYOMING/56039/tl_rd22_56039_roads.zip  \n",
       "2685  56_WYOMING/56041/tl_rd22_56041_roads.zip  \n",
       "2686  56_WYOMING/56043/tl_rd22_56043_roads.zip  \n",
       "2687  56_WYOMING/56045/tl_rd22_56045_roads.zip  \n",
       "\n",
       "[2688 rows x 5 columns]"
      ]
     },
     "execution_count": 4,
     "metadata": {},
     "output_type": "execute_result"
    }
   ],
   "source": [
    "manifest"
   ]
  },
  {
   "cell_type": "code",
   "execution_count": 12,
   "id": "91e6f529",
   "metadata": {},
   "outputs": [],
   "source": [
    "for state, num in zip(STATES, NUMS):\n",
    "    state_folder = gen_state_folder(state, num)\n",
    "    state_url = '/'.join([base_url, state_folder, f'{num:02d}'])\n",
    "    zipname = f'tl_rd22_{num:02d}_prisecroads.zip'\n",
    "    full_url = '/'.join([state_url, zipname])\n",
    "    \n",
    "    r = requests.get(full_url)\n",
    "    \n",
    "    if r.ok:\n",
    "        savepath = Path('us_tiger_roads', state_folder, zipname)\n",
    "        savepath.parent.mkdir(exist_ok=True)\n",
    "        with open(savepath, 'wb') as f:\n",
    "            f.write(r.content)\n",
    "    else:\n",
    "        print(f'Failed to fetch {full_url}...')"
   ]
  },
  {
   "cell_type": "code",
   "execution_count": null,
   "id": "7febde22",
   "metadata": {},
   "outputs": [],
   "source": []
  }
 ],
 "metadata": {
  "kernelspec": {
   "display_name": "Python 3 (ipykernel)",
   "language": "python",
   "name": "python3"
  },
  "language_info": {
   "codemirror_mode": {
    "name": "ipython",
    "version": 3
   },
   "file_extension": ".py",
   "mimetype": "text/x-python",
   "name": "python",
   "nbconvert_exporter": "python",
   "pygments_lexer": "ipython3",
   "version": "3.9.7"
  }
 },
 "nbformat": 4,
 "nbformat_minor": 5
}
