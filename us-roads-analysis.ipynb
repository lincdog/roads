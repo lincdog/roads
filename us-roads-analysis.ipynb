{
 "cells": [
  {
   "cell_type": "code",
   "execution_count": null,
   "id": "c79415b0-21d2-415a-964c-969d7aaf7b7a",
   "metadata": {},
   "outputs": [],
   "source": [
    "from shapely import geometry\n",
    "from pathlib import Path\n",
    "from importlib import reload\n",
    "from datetime import datetime\n",
    "from concurrent.futures import ProcessPoolExecutor, as_completed\n",
    "\n",
    "import geopandas as gpd\n",
    "import numpy as np\n",
    "import os\n",
    "import warnings\n",
    "import pandas as pd\n",
    "\n",
    "\n",
    "import roads as rd\n",
    "rd = reload(rd)"
   ]
  },
  {
   "cell_type": "markdown",
   "id": "a16187e2",
   "metadata": {},
   "source": [
    "# Ideas\n",
    "\n",
    "* Use some sort of structuring element - circle, square etc - and move across road network and count how many times it does not intersect any road. Use a pretty small one, like 1 km^2\n",
    "\n",
    "1. Generate a bunch of small structuring elements\n",
    "2. count how many intersect the full-state roads"
   ]
  },
  {
   "cell_type": "code",
   "execution_count": null,
   "id": "d3e6f3dc",
   "metadata": {},
   "outputs": [],
   "source": [
    "def run_analysis_for_state(\n",
    "    statename, \n",
    "    blocksize,\n",
    "    chunksize=400,\n",
    "    max_workers=6\n",
    "):\n",
    "    state_data = rd.StateData(statename)\n",
    "    \n",
    "    print(f'Opening shapefiles for {statename}')\n",
    "    state_roads_file = state_data.statewide_file_path('prisecroads', '.shp')\n",
    "    state_edge_file = state_data.statewide_file_path('cd118', '.shp')\n",
    "    \n",
    "    state_map = rd.StateMaps(state_roads_file, state_edge_file)\n",
    "    \n",
    "    time_blocks_st = datetime.now()\n",
    "    print(f'Making {blocksize}m x {blocksize}m blocks')\n",
    "    state_map.make_blocks(blocksize)\n",
    "    time_blocks_en = datetime.now()\n",
    "    print(f'making blocks took {time_blocks_en-time_blocks_st}')\n",
    "    \n",
    "    time_inter_st = datetime.now()\n",
    "    print(f'Running intersection analysis with chunksize {chunksize} ({state_map.n_blocks // chunksize} chunks) and {max_workers} workers')\n",
    "    n_ints, a_ints = state_map.get_intersections(chunksize=chunksize, max_workers=max_workers)\n",
    "    time_inter_en = datetime.now()\n",
    "    print(f'running intersection analysis took {time_inter_en-time_inter_st}')\n",
    "    \n",
    "    print(f'Number intersections: {n_ints}')\n",
    "    print(f'Percent blocks with intersections: {n_ints / state_map.n_blocks}')\n",
    "    print(f'Area of blocks with intersections: {a_ints}')\n",
    "    print(f'Percent of area with intersections: {a_ints / state_map.area}')\n",
    "    \n",
    "    return state_map"
   ]
  },
  {
   "cell_type": "markdown",
   "id": "83a2286a",
   "metadata": {},
   "source": [
    "## Results\n",
    "* New York: 14 minutes - 27%\n",
    "* Nevada: 5 minutes? - 5.5%\n",
    "* Massachusetts: 2 minutes - 37%"
   ]
  },
  {
   "cell_type": "code",
   "execution_count": null,
   "id": "f464b01f",
   "metadata": {},
   "outputs": [],
   "source": [
    "run_analysis_for_state('new york', 2000)"
   ]
  },
  {
   "cell_type": "code",
   "execution_count": null,
   "id": "68e05288",
   "metadata": {},
   "outputs": [],
   "source": [
    "run_analysis_for_state('massachusetts', 2000)"
   ]
  }
 ],
 "metadata": {
  "kernelspec": {
   "display_name": "Python 3 (ipykernel)",
   "language": "python",
   "name": "python3"
  },
  "language_info": {
   "codemirror_mode": {
    "name": "ipython",
    "version": 3
   },
   "file_extension": ".py",
   "mimetype": "text/x-python",
   "name": "python",
   "nbconvert_exporter": "python",
   "pygments_lexer": "ipython3",
   "version": "3.9.7"
  }
 },
 "nbformat": 4,
 "nbformat_minor": 5
}
